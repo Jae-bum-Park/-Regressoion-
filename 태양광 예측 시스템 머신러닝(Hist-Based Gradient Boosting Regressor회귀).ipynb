{
 "cells": [
  {
   "cell_type": "code",
   "execution_count": 1,
   "metadata": {},
   "outputs": [],
   "source": [
    "#데이터 다운 링크 : https://dacon.io/competitions/official/235680/data\n",
    "#링크에서 데이터를 다운받아 ipynb를 넣어서 실행시켜 주면 된다.\n",
    "#데이터 불러오기\n",
    "import pandas as pd\n",
    "import numpy as np\n",
    "import os\n",
    "import matplotlib.pyplot as plt\n",
    "import seaborn as sns"
   ]
  },
  {
   "cell_type": "markdown",
   "metadata": {},
   "source": [
    "## 데이터 불러오기"
   ]
  },
  {
   "cell_type": "code",
   "execution_count": 2,
   "metadata": {
    "scrolled": true
   },
   "outputs": [],
   "source": [
    "df_train = pd.read_csv(r\".\\train\\train.csv\", header = 'infer', encoding = 'utf-8')"
   ]
  },
  {
   "cell_type": "markdown",
   "metadata": {},
   "source": [
    "## 데이터 확인하기"
   ]
  },
  {
   "cell_type": "code",
   "execution_count": 3,
   "metadata": {
    "scrolled": false
   },
   "outputs": [
    {
     "data": {
      "text/html": [
       "<div>\n",
       "<style scoped>\n",
       "    .dataframe tbody tr th:only-of-type {\n",
       "        vertical-align: middle;\n",
       "    }\n",
       "\n",
       "    .dataframe tbody tr th {\n",
       "        vertical-align: top;\n",
       "    }\n",
       "\n",
       "    .dataframe thead th {\n",
       "        text-align: right;\n",
       "    }\n",
       "</style>\n",
       "<table border=\"1\" class=\"dataframe\">\n",
       "  <thead>\n",
       "    <tr style=\"text-align: right;\">\n",
       "      <th></th>\n",
       "      <th>Day</th>\n",
       "      <th>Hour</th>\n",
       "      <th>Minute</th>\n",
       "      <th>DHI</th>\n",
       "      <th>DNI</th>\n",
       "      <th>WS</th>\n",
       "      <th>RH</th>\n",
       "      <th>T</th>\n",
       "      <th>TARGET</th>\n",
       "    </tr>\n",
       "  </thead>\n",
       "  <tbody>\n",
       "    <tr>\n",
       "      <th>0</th>\n",
       "      <td>0</td>\n",
       "      <td>0</td>\n",
       "      <td>0</td>\n",
       "      <td>0</td>\n",
       "      <td>0</td>\n",
       "      <td>1.5</td>\n",
       "      <td>69.08</td>\n",
       "      <td>-12</td>\n",
       "      <td>0.0</td>\n",
       "    </tr>\n",
       "    <tr>\n",
       "      <th>1</th>\n",
       "      <td>0</td>\n",
       "      <td>0</td>\n",
       "      <td>30</td>\n",
       "      <td>0</td>\n",
       "      <td>0</td>\n",
       "      <td>1.5</td>\n",
       "      <td>69.06</td>\n",
       "      <td>-12</td>\n",
       "      <td>0.0</td>\n",
       "    </tr>\n",
       "    <tr>\n",
       "      <th>2</th>\n",
       "      <td>0</td>\n",
       "      <td>1</td>\n",
       "      <td>0</td>\n",
       "      <td>0</td>\n",
       "      <td>0</td>\n",
       "      <td>1.6</td>\n",
       "      <td>71.78</td>\n",
       "      <td>-12</td>\n",
       "      <td>0.0</td>\n",
       "    </tr>\n",
       "    <tr>\n",
       "      <th>3</th>\n",
       "      <td>0</td>\n",
       "      <td>1</td>\n",
       "      <td>30</td>\n",
       "      <td>0</td>\n",
       "      <td>0</td>\n",
       "      <td>1.6</td>\n",
       "      <td>71.75</td>\n",
       "      <td>-12</td>\n",
       "      <td>0.0</td>\n",
       "    </tr>\n",
       "    <tr>\n",
       "      <th>4</th>\n",
       "      <td>0</td>\n",
       "      <td>2</td>\n",
       "      <td>0</td>\n",
       "      <td>0</td>\n",
       "      <td>0</td>\n",
       "      <td>1.6</td>\n",
       "      <td>75.20</td>\n",
       "      <td>-12</td>\n",
       "      <td>0.0</td>\n",
       "    </tr>\n",
       "    <tr>\n",
       "      <th>5</th>\n",
       "      <td>0</td>\n",
       "      <td>2</td>\n",
       "      <td>30</td>\n",
       "      <td>0</td>\n",
       "      <td>0</td>\n",
       "      <td>1.5</td>\n",
       "      <td>69.29</td>\n",
       "      <td>-11</td>\n",
       "      <td>0.0</td>\n",
       "    </tr>\n",
       "    <tr>\n",
       "      <th>6</th>\n",
       "      <td>0</td>\n",
       "      <td>3</td>\n",
       "      <td>0</td>\n",
       "      <td>0</td>\n",
       "      <td>0</td>\n",
       "      <td>1.5</td>\n",
       "      <td>72.56</td>\n",
       "      <td>-11</td>\n",
       "      <td>0.0</td>\n",
       "    </tr>\n",
       "    <tr>\n",
       "      <th>7</th>\n",
       "      <td>0</td>\n",
       "      <td>3</td>\n",
       "      <td>30</td>\n",
       "      <td>0</td>\n",
       "      <td>0</td>\n",
       "      <td>1.4</td>\n",
       "      <td>72.55</td>\n",
       "      <td>-11</td>\n",
       "      <td>0.0</td>\n",
       "    </tr>\n",
       "    <tr>\n",
       "      <th>8</th>\n",
       "      <td>0</td>\n",
       "      <td>4</td>\n",
       "      <td>0</td>\n",
       "      <td>0</td>\n",
       "      <td>0</td>\n",
       "      <td>1.3</td>\n",
       "      <td>74.62</td>\n",
       "      <td>-11</td>\n",
       "      <td>0.0</td>\n",
       "    </tr>\n",
       "    <tr>\n",
       "      <th>9</th>\n",
       "      <td>0</td>\n",
       "      <td>4</td>\n",
       "      <td>30</td>\n",
       "      <td>0</td>\n",
       "      <td>0</td>\n",
       "      <td>1.3</td>\n",
       "      <td>74.61</td>\n",
       "      <td>-11</td>\n",
       "      <td>0.0</td>\n",
       "    </tr>\n",
       "  </tbody>\n",
       "</table>\n",
       "</div>"
      ],
      "text/plain": [
       "   Day  Hour  Minute  DHI  DNI   WS     RH   T  TARGET\n",
       "0    0     0       0    0    0  1.5  69.08 -12     0.0\n",
       "1    0     0      30    0    0  1.5  69.06 -12     0.0\n",
       "2    0     1       0    0    0  1.6  71.78 -12     0.0\n",
       "3    0     1      30    0    0  1.6  71.75 -12     0.0\n",
       "4    0     2       0    0    0  1.6  75.20 -12     0.0\n",
       "5    0     2      30    0    0  1.5  69.29 -11     0.0\n",
       "6    0     3       0    0    0  1.5  72.56 -11     0.0\n",
       "7    0     3      30    0    0  1.4  72.55 -11     0.0\n",
       "8    0     4       0    0    0  1.3  74.62 -11     0.0\n",
       "9    0     4      30    0    0  1.3  74.61 -11     0.0"
      ]
     },
     "execution_count": 3,
     "metadata": {},
     "output_type": "execute_result"
    }
   ],
   "source": [
    "df_train.head(10)"
   ]
  },
  {
   "cell_type": "markdown",
   "metadata": {},
   "source": [
    "## 변수 확인하기."
   ]
  },
  {
   "cell_type": "code",
   "execution_count": 4,
   "metadata": {
    "scrolled": true
   },
   "outputs": [
    {
     "name": "stdout",
     "output_type": "stream",
     "text": [
      "Index(['Day', 'Hour', 'Minute', 'DHI', 'DNI', 'WS', 'RH', 'T', 'TARGET'], dtype='object')\n"
     ]
    }
   ],
   "source": [
    "print(df_train.columns)\n",
    "#DHI : 수평면 산란일사량(Diffuse Horizontal Irradiance (W/m2))\n",
    "#DNI :  직달일사량(Direct Normal Irradiance (W/m2)\n",
    "#WS : 풍속(Wind Speed (m/s))\n",
    "#RH : 상대습도(Relative Humidity (%))\n",
    "#T : 기온(Temperature (Degree C))\n",
    "#TARGET : 태양광 발전량 (kW)"
   ]
  },
  {
   "cell_type": "markdown",
   "metadata": {},
   "source": [
    "## 고유값 확인하기."
   ]
  },
  {
   "cell_type": "code",
   "execution_count": 5,
   "metadata": {},
   "outputs": [
    {
     "data": {
      "text/plain": [
       "Day        1095\n",
       "Hour         24\n",
       "Minute        2\n",
       "DHI         525\n",
       "DNI        1056\n",
       "WS          115\n",
       "RH         8691\n",
       "T            55\n",
       "TARGET    16931\n",
       "dtype: int64"
      ]
     },
     "execution_count": 5,
     "metadata": {},
     "output_type": "execute_result"
    }
   ],
   "source": [
    "df_train.apply(lambda x: x.nunique())"
   ]
  },
  {
   "cell_type": "markdown",
   "metadata": {},
   "source": [
    "## 결측치확인"
   ]
  },
  {
   "cell_type": "code",
   "execution_count": 6,
   "metadata": {
    "scrolled": true
   },
   "outputs": [
    {
     "data": {
      "text/plain": [
       "Day       0\n",
       "Hour      0\n",
       "Minute    0\n",
       "DHI       0\n",
       "DNI       0\n",
       "WS        0\n",
       "RH        0\n",
       "T         0\n",
       "TARGET    0\n",
       "dtype: int64"
      ]
     },
     "execution_count": 6,
     "metadata": {},
     "output_type": "execute_result"
    }
   ],
   "source": [
    "df_train.isna().sum()"
   ]
  },
  {
   "cell_type": "markdown",
   "metadata": {},
   "source": [
    "# 필요없는 데이터 제외하기."
   ]
  },
  {
   "cell_type": "code",
   "execution_count": 7,
   "metadata": {},
   "outputs": [],
   "source": [
    "#필요없는 데이터 제외하기.\n",
    "train = df_train[['Hour', 'DHI', 'DNI', 'WS', 'RH', 'T', 'TARGET']]"
   ]
  },
  {
   "cell_type": "markdown",
   "metadata": {},
   "source": [
    "## 각 변수에 따른 TARGET의 변화를 그래프로 나타내기"
   ]
  },
  {
   "cell_type": "code",
   "execution_count": 8,
   "metadata": {
    "scrolled": false
   },
   "outputs": [
    {
     "data": {
      "image/png": "[encoded data removed]",
      "text/plain": [
       "<Figure size 432x288 with 1 Axes>"
      ]
     },
     "metadata": {
      "needs_background": "light"
     },
     "output_type": "display_data"
    }
   ],
   "source": [
    "\n",
    "#시간별 태양광발전량 평균.\n",
    "target_mean = train.groupby('Hour').TARGET.mean()\n",
    "\n",
    "plt.bar(target_mean.index , target_mean)\n",
    "plt.show()"
   ]
  },
  {
   "cell_type": "code",
   "execution_count": 9,
   "metadata": {},
   "outputs": [
    {
     "data": {
      "image/png": "[encoded data removed]",
      "text/plain": [
       "<Figure size 1080x720 with 6 Axes>"
      ]
     },
     "metadata": {
      "needs_background": "light"
     },
     "output_type": "display_data"
    }
   ],
   "source": [
    "fig, axes = plt.subplots(2, 3, figsize=(15,10))\n",
    "\n",
    "target_me = train.groupby('Hour').TARGET.mean()\n",
    "axes[0,0].bar(target_me.index, target_me)\n",
    "axes[0,0].set_title('Hour')\n",
    "\n",
    "target_me = train.groupby('T').TARGET.mean()\n",
    "axes[0,1].bar(target_me.index, target_me)\n",
    "axes[0,1].set_title('T')\n",
    "\n",
    "target_me = train.groupby('RH').TARGET.mean()\n",
    "axes[0,2].bar(target_me.index, target_me)\n",
    "axes[0,2].set_title('RH')\n",
    "\n",
    "target_me = train.groupby('WS').TARGET.mean()\n",
    "axes[1,0].bar(target_me.index, target_me)\n",
    "axes[1,0].set_title('WS')\n",
    "\n",
    "target_me = train.groupby('DHI').TARGET.mean()\n",
    "axes[1,1].bar(target_me.index, target_me)\n",
    "axes[1,1].set_title('DHI')\n",
    "\n",
    "target_me = train.groupby('DNI').TARGET.mean()\n",
    "axes[1,2].bar(target_me.index, target_me)\n",
    "axes[1,2].set_title('DNI')\n",
    "\n",
    "\n",
    "fig.tight_layout()"
   ]
  },
  {
   "cell_type": "markdown",
   "metadata": {},
   "source": [
    "- 낮일수록 전력량은 늘어난다.\n",
    "- 온도가 높아질수록 전력량은 늘어난다.\n",
    "- 습기가 낮을수록 전력량은 늘어난다.\n",
    "- 풍속이 빠를수록 대체로 전력량이 높다.\n",
    "- DHI가 높을수록 전력량이 높다.\n",
    "- DNI가 높을수록 전력량이 높다."
   ]
  },
  {
   "cell_type": "markdown",
   "metadata": {},
   "source": [
    "# 기온에 따른 DNI와 DHI."
   ]
  },
  {
   "cell_type": "code",
   "execution_count": 10,
   "metadata": {},
   "outputs": [
    {
     "data": {
      "image/png": "[encoded data removed]",
      "text/plain": [
       "<Figure size 432x288 with 1 Axes>"
      ]
     },
     "metadata": {
      "needs_background": "light"
     },
     "output_type": "display_data"
    }
   ],
   "source": [
    "#기온에 따른 DNI\n",
    "target_mean = train.groupby('T').DNI.mean()\n",
    "\n",
    "plt.bar(target_mean.index , target_mean)\n",
    "plt.show()"
   ]
  },
  {
   "cell_type": "code",
   "execution_count": 11,
   "metadata": {},
   "outputs": [
    {
     "data": {
      "image/png": "[encoded data removed]",
      "text/plain": [
       "<Figure size 432x288 with 1 Axes>"
      ]
     },
     "metadata": {
      "needs_background": "light"
     },
     "output_type": "display_data"
    }
   ],
   "source": [
    "#기온에 따른 DHI\n",
    "target_mean = train.groupby('T').DHI.mean()\n",
    "\n",
    "plt.bar(target_mean.index , target_mean)\n",
    "plt.show()"
   ]
  },
  {
   "cell_type": "markdown",
   "metadata": {},
   "source": [
    "## 변수간 상관계수 확인하기."
   ]
  },
  {
   "cell_type": "code",
   "execution_count": 12,
   "metadata": {
    "scrolled": true
   },
   "outputs": [
    {
     "data": {
      "text/plain": [
       "<AxesSubplot:title={'center':'TARGET Correlation of Features'}>"
      ]
     },
     "execution_count": 12,
     "metadata": {},
     "output_type": "execute_result"
    },
    {
     "data": {
      "image/png": "[encoded data removed]",
      "text/plain": [
       "<Figure size 720x576 with 2 Axes>"
      ]
     },
     "metadata": {
      "needs_background": "light"
     },
     "output_type": "display_data"
    }
   ],
   "source": [
    "colormap = plt.cm.PuBu\n",
    "plt.figure(figsize=(10, 8))\n",
    "plt.title(\"TARGET Correlation of Features\", y = 1.05, size = 15)\n",
    "sns.heatmap(train.astype(float).corr(), linewidth=0.1, vmax = 1.0, square= True, cmap = colormap, linecolor = 'white', annot = True, annot_kws = {\"size\" : 16})"
   ]
  },
  {
   "cell_type": "markdown",
   "metadata": {},
   "source": [
    "# 데이터 분배."
   ]
  },
  {
   "cell_type": "code",
   "execution_count": 13,
   "metadata": {},
   "outputs": [],
   "source": [
    "train_input = train[['Hour','DHI', 'DNI', 'RH', 'WS', 'T']]\n",
    "train_target = train[['TARGET']]"
   ]
  },
  {
   "cell_type": "markdown",
   "metadata": {},
   "source": [
    "## histogram-based gradient boosting"
   ]
  },
  {
   "cell_type": "code",
   "execution_count": 14,
   "metadata": {},
   "outputs": [],
   "source": [
    "#그래디언트 부스팅(histogram-based gradient boosting)\n",
    "#cross_validate를 사용해 교차검증을 수행한다.\n",
    "#from sklearn.ensemble import GradientBoostingRegressor\n",
    "#from sklearn.model_selection import cross_validate\n",
    "\n",
    "#gb = GradientBoostingRegressor(n_estimators=1000, learning_rate=0.2, random_state=42)\n",
    "#sc = cross_validate(gb, train_input, train_target, return_train_score=True, n_jobs=-1)\n",
    "#print(np.mean(sc['train_score']), np.mean(sc['test_score']))"
   ]
  },
  {
   "cell_type": "code",
   "execution_count": 15,
   "metadata": {},
   "outputs": [
    {
     "name": "stdout",
     "output_type": "stream",
     "text": [
      "0.998685286497647 0.9967027791813203\n"
     ]
    }
   ],
   "source": [
    "#히스토그램 기반 그래디언트 부스팅(histogram-based gradient boosting)\n",
    "#cross_validate를 사용해 교차검증을 수행한다.\n",
    "from sklearn.experimental import enable_hist_gradient_boosting\n",
    "from sklearn.ensemble import HistGradientBoostingRegressor\n",
    "from sklearn.model_selection import cross_validate\n",
    "gb = HistGradientBoostingRegressor( learning_rate=0.2, random_state=42) #learning_rate : 학습률.\n",
    "\n",
    "#교차검증 수행\n",
    "sc = cross_validate(gb, train_input, train_target, return_train_score=True, n_jobs=-1)\n",
    "print(np.mean(sc['train_score']), np.mean(sc['test_score']))"
   ]
  },
  {
   "cell_type": "code",
   "execution_count": 16,
   "metadata": {},
   "outputs": [
    {
     "name": "stderr",
     "output_type": "stream",
     "text": [
      "C:\\Users\\User\\anaconda3\\lib\\site-packages\\sklearn\\utils\\validation.py:72: DataConversionWarning: A column-vector y was passed when a 1d array was expected. Please change the shape of y to (n_samples, ), for example using ravel().\n",
      "  return f(**kwargs)\n"
     ]
    },
    {
     "data": {
      "text/plain": [
       "HistGradientBoostingRegressor(learning_rate=0.2, random_state=42)"
      ]
     },
     "execution_count": 16,
     "metadata": {},
     "output_type": "execute_result"
    }
   ],
   "source": [
    "gb.fit(train_input,train_target)"
   ]
  },
  {
   "cell_type": "code",
   "execution_count": 17,
   "metadata": {},
   "outputs": [
    {
     "data": {
      "text/plain": [
       "0.9986001331077233"
      ]
     },
     "execution_count": 17,
     "metadata": {},
     "output_type": "execute_result"
    }
   ],
   "source": [
    "gb.score(train_input, train_target)"
   ]
  },
  {
   "cell_type": "code",
   "execution_count": 18,
   "metadata": {},
   "outputs": [
    {
     "data": {
      "text/plain": [
       "array([22.3544293])"
      ]
     },
     "execution_count": 18,
     "metadata": {},
     "output_type": "execute_result"
    }
   ],
   "source": [
    "#예측해보기.\n",
    "gb.predict([[9,58,743,2.1,57.39,-6]])"
   ]
  },
  {
   "cell_type": "markdown",
   "metadata": {
    "scrolled": true
   },
   "source": [
    "## test csv 합치기.\n",
    "- test 데이터가 여러개의 csv로 나누어져 있기 때문에 한개로 합쳐주는 과정이 필요함."
   ]
  },
  {
   "cell_type": "code",
   "execution_count": 19,
   "metadata": {},
   "outputs": [],
   "source": [
    "import pandas as pd\n",
    "import glob\n",
    "import os\n",
    "\n",
    "file_loc = r'.\\test' # csv파일들이 있는 디렉토리 위치\n",
    "all_file = r'test_sum.csv' # 병합하여 저장하려는 파일명"
   ]
  },
  {
   "cell_type": "code",
   "execution_count": 20,
   "metadata": {},
   "outputs": [
    {
     "name": "stdout",
     "output_type": "stream",
     "text": [
      "['.\\\\test\\\\0.csv', '.\\\\test\\\\1.csv', '.\\\\test\\\\10.csv', '.\\\\test\\\\11.csv', '.\\\\test\\\\12.csv', '.\\\\test\\\\13.csv', '.\\\\test\\\\14.csv', '.\\\\test\\\\15.csv', '.\\\\test\\\\16.csv', '.\\\\test\\\\17.csv', '.\\\\test\\\\18.csv', '.\\\\test\\\\19.csv', '.\\\\test\\\\2.csv', '.\\\\test\\\\20.csv', '.\\\\test\\\\21.csv', '.\\\\test\\\\22.csv', '.\\\\test\\\\23.csv', '.\\\\test\\\\24.csv', '.\\\\test\\\\25.csv', '.\\\\test\\\\26.csv', '.\\\\test\\\\27.csv', '.\\\\test\\\\28.csv', '.\\\\test\\\\29.csv', '.\\\\test\\\\3.csv', '.\\\\test\\\\30.csv', '.\\\\test\\\\31.csv', '.\\\\test\\\\32.csv', '.\\\\test\\\\33.csv', '.\\\\test\\\\34.csv', '.\\\\test\\\\35.csv', '.\\\\test\\\\36.csv', '.\\\\test\\\\37.csv', '.\\\\test\\\\38.csv', '.\\\\test\\\\39.csv', '.\\\\test\\\\4.csv', '.\\\\test\\\\40.csv', '.\\\\test\\\\41.csv', '.\\\\test\\\\42.csv', '.\\\\test\\\\43.csv', '.\\\\test\\\\44.csv', '.\\\\test\\\\45.csv', '.\\\\test\\\\46.csv', '.\\\\test\\\\47.csv', '.\\\\test\\\\48.csv', '.\\\\test\\\\49.csv', '.\\\\test\\\\5.csv', '.\\\\test\\\\50.csv', '.\\\\test\\\\51.csv', '.\\\\test\\\\52.csv', '.\\\\test\\\\53.csv', '.\\\\test\\\\54.csv', '.\\\\test\\\\55.csv', '.\\\\test\\\\56.csv', '.\\\\test\\\\57.csv', '.\\\\test\\\\58.csv', '.\\\\test\\\\59.csv', '.\\\\test\\\\6.csv', '.\\\\test\\\\60.csv', '.\\\\test\\\\61.csv', '.\\\\test\\\\62.csv', '.\\\\test\\\\63.csv', '.\\\\test\\\\64.csv', '.\\\\test\\\\65.csv', '.\\\\test\\\\66.csv', '.\\\\test\\\\67.csv', '.\\\\test\\\\68.csv', '.\\\\test\\\\69.csv', '.\\\\test\\\\7.csv', '.\\\\test\\\\70.csv', '.\\\\test\\\\71.csv', '.\\\\test\\\\72.csv', '.\\\\test\\\\73.csv', '.\\\\test\\\\74.csv', '.\\\\test\\\\75.csv', '.\\\\test\\\\76.csv', '.\\\\test\\\\77.csv', '.\\\\test\\\\78.csv', '.\\\\test\\\\79.csv', '.\\\\test\\\\8.csv', '.\\\\test\\\\80.csv', '.\\\\test\\\\9.csv']\n"
     ]
    }
   ],
   "source": [
    "allFile_list = glob.glob(os.path.join(file_loc, '*csv')) # glob함수를 통해 *csv로 끝나는 파일들을 모아준다.\n",
    "print(allFile_list)"
   ]
  },
  {
   "cell_type": "code",
   "execution_count": 21,
   "metadata": {},
   "outputs": [],
   "source": [
    "allData = [] #빈 리스트 한개 생성.\n",
    "for file in allFile_list:\n",
    "    df = pd.read_csv(file) # for구문으로 csv파일들을 읽어 들인다\n",
    "    allData.append(df) # 빈 리스트에 읽어 들인 내용을 추가한다"
   ]
  },
  {
   "cell_type": "code",
   "execution_count": 22,
   "metadata": {},
   "outputs": [],
   "source": [
    "#axis=0은 수직병합. axis=1은 수평병합. ignore_index=True는 인덱스 값이 기존 순서를 무시하고 순서대로 정렬.\n",
    "data_Combine = pd.concat(allData, axis=0, ignore_index=True) # concat함수를 이용해서 리스트의 내용을 병합\n"
   ]
  },
  {
   "cell_type": "code",
   "execution_count": 23,
   "metadata": {
    "scrolled": false
   },
   "outputs": [
    {
     "data": {
      "text/html": [
       "<div>\n",
       "<style scoped>\n",
       "    .dataframe tbody tr th:only-of-type {\n",
       "        vertical-align: middle;\n",
       "    }\n",
       "\n",
       "    .dataframe tbody tr th {\n",
       "        vertical-align: top;\n",
       "    }\n",
       "\n",
       "    .dataframe thead th {\n",
       "        text-align: right;\n",
       "    }\n",
       "</style>\n",
       "<table border=\"1\" class=\"dataframe\">\n",
       "  <thead>\n",
       "    <tr style=\"text-align: right;\">\n",
       "      <th></th>\n",
       "      <th>Day</th>\n",
       "      <th>Hour</th>\n",
       "      <th>Minute</th>\n",
       "      <th>DHI</th>\n",
       "      <th>DNI</th>\n",
       "      <th>WS</th>\n",
       "      <th>RH</th>\n",
       "      <th>T</th>\n",
       "      <th>TARGET</th>\n",
       "    </tr>\n",
       "  </thead>\n",
       "  <tbody>\n",
       "    <tr>\n",
       "      <th>0</th>\n",
       "      <td>0</td>\n",
       "      <td>0</td>\n",
       "      <td>0</td>\n",
       "      <td>0</td>\n",
       "      <td>0</td>\n",
       "      <td>2.7</td>\n",
       "      <td>34.42</td>\n",
       "      <td>0.0</td>\n",
       "      <td>0.0</td>\n",
       "    </tr>\n",
       "    <tr>\n",
       "      <th>1</th>\n",
       "      <td>0</td>\n",
       "      <td>0</td>\n",
       "      <td>30</td>\n",
       "      <td>0</td>\n",
       "      <td>0</td>\n",
       "      <td>2.7</td>\n",
       "      <td>34.17</td>\n",
       "      <td>0.1</td>\n",
       "      <td>0.0</td>\n",
       "    </tr>\n",
       "    <tr>\n",
       "      <th>2</th>\n",
       "      <td>0</td>\n",
       "      <td>1</td>\n",
       "      <td>0</td>\n",
       "      <td>0</td>\n",
       "      <td>0</td>\n",
       "      <td>2.7</td>\n",
       "      <td>34.23</td>\n",
       "      <td>0.2</td>\n",
       "      <td>0.0</td>\n",
       "    </tr>\n",
       "    <tr>\n",
       "      <th>3</th>\n",
       "      <td>0</td>\n",
       "      <td>1</td>\n",
       "      <td>30</td>\n",
       "      <td>0</td>\n",
       "      <td>0</td>\n",
       "      <td>2.7</td>\n",
       "      <td>33.99</td>\n",
       "      <td>0.3</td>\n",
       "      <td>0.0</td>\n",
       "    </tr>\n",
       "    <tr>\n",
       "      <th>4</th>\n",
       "      <td>0</td>\n",
       "      <td>2</td>\n",
       "      <td>0</td>\n",
       "      <td>0</td>\n",
       "      <td>0</td>\n",
       "      <td>2.8</td>\n",
       "      <td>33.97</td>\n",
       "      <td>0.4</td>\n",
       "      <td>0.0</td>\n",
       "    </tr>\n",
       "    <tr>\n",
       "      <th>...</th>\n",
       "      <td>...</td>\n",
       "      <td>...</td>\n",
       "      <td>...</td>\n",
       "      <td>...</td>\n",
       "      <td>...</td>\n",
       "      <td>...</td>\n",
       "      <td>...</td>\n",
       "      <td>...</td>\n",
       "      <td>...</td>\n",
       "    </tr>\n",
       "    <tr>\n",
       "      <th>27211</th>\n",
       "      <td>6</td>\n",
       "      <td>21</td>\n",
       "      <td>30</td>\n",
       "      <td>0</td>\n",
       "      <td>0</td>\n",
       "      <td>2.7</td>\n",
       "      <td>55.31</td>\n",
       "      <td>14.9</td>\n",
       "      <td>0.0</td>\n",
       "    </tr>\n",
       "    <tr>\n",
       "      <th>27212</th>\n",
       "      <td>6</td>\n",
       "      <td>22</td>\n",
       "      <td>0</td>\n",
       "      <td>0</td>\n",
       "      <td>0</td>\n",
       "      <td>3.0</td>\n",
       "      <td>55.48</td>\n",
       "      <td>14.5</td>\n",
       "      <td>0.0</td>\n",
       "    </tr>\n",
       "    <tr>\n",
       "      <th>27213</th>\n",
       "      <td>6</td>\n",
       "      <td>22</td>\n",
       "      <td>30</td>\n",
       "      <td>0</td>\n",
       "      <td>0</td>\n",
       "      <td>3.1</td>\n",
       "      <td>56.20</td>\n",
       "      <td>14.3</td>\n",
       "      <td>0.0</td>\n",
       "    </tr>\n",
       "    <tr>\n",
       "      <th>27214</th>\n",
       "      <td>6</td>\n",
       "      <td>23</td>\n",
       "      <td>0</td>\n",
       "      <td>0</td>\n",
       "      <td>0</td>\n",
       "      <td>3.2</td>\n",
       "      <td>54.87</td>\n",
       "      <td>14.0</td>\n",
       "      <td>0.0</td>\n",
       "    </tr>\n",
       "    <tr>\n",
       "      <th>27215</th>\n",
       "      <td>6</td>\n",
       "      <td>23</td>\n",
       "      <td>30</td>\n",
       "      <td>0</td>\n",
       "      <td>0</td>\n",
       "      <td>3.2</td>\n",
       "      <td>55.58</td>\n",
       "      <td>13.8</td>\n",
       "      <td>0.0</td>\n",
       "    </tr>\n",
       "  </tbody>\n",
       "</table>\n",
       "<p>27216 rows × 9 columns</p>\n",
       "</div>"
      ],
      "text/plain": [
       "       Day  Hour  Minute  DHI  DNI   WS     RH     T  TARGET\n",
       "0        0     0       0    0    0  2.7  34.42   0.0     0.0\n",
       "1        0     0      30    0    0  2.7  34.17   0.1     0.0\n",
       "2        0     1       0    0    0  2.7  34.23   0.2     0.0\n",
       "3        0     1      30    0    0  2.7  33.99   0.3     0.0\n",
       "4        0     2       0    0    0  2.8  33.97   0.4     0.0\n",
       "...    ...   ...     ...  ...  ...  ...    ...   ...     ...\n",
       "27211    6    21      30    0    0  2.7  55.31  14.9     0.0\n",
       "27212    6    22       0    0    0  3.0  55.48  14.5     0.0\n",
       "27213    6    22      30    0    0  3.1  56.20  14.3     0.0\n",
       "27214    6    23       0    0    0  3.2  54.87  14.0     0.0\n",
       "27215    6    23      30    0    0  3.2  55.58  13.8     0.0\n",
       "\n",
       "[27216 rows x 9 columns]"
      ]
     },
     "execution_count": 23,
     "metadata": {},
     "output_type": "execute_result"
    }
   ],
   "source": [
    "#병합된 데이터 보기.\n",
    "data_Combine"
   ]
  },
  {
   "cell_type": "code",
   "execution_count": 24,
   "metadata": {
    "scrolled": true
   },
   "outputs": [],
   "source": [
    "#테스트 해보기.\n",
    "test_input = data_Combine[['Hour', 'DHI', 'DNI','RH', 'WS', 'T']]\n",
    "test_target = data_Combine[['TARGET']]"
   ]
  },
  {
   "cell_type": "code",
   "execution_count": 25,
   "metadata": {},
   "outputs": [
    {
     "data": {
      "text/plain": [
       "0.994600099718271"
      ]
     },
     "execution_count": 25,
     "metadata": {},
     "output_type": "execute_result"
    }
   ],
   "source": [
    "gb.score(test_input,test_target)"
   ]
  },
  {
   "cell_type": "markdown",
   "metadata": {},
   "source": [
    "## 테스트데이터의  TARGET을 예측하고, csv파일의 새로운 열에 추가하기."
   ]
  },
  {
   "cell_type": "code",
   "execution_count": 26,
   "metadata": {},
   "outputs": [],
   "source": [
    "#변수에 예측된 test의 TARGET 데이터 입력.\n",
    "test_predict = gb.predict(test_input)"
   ]
  },
  {
   "cell_type": "code",
   "execution_count": 27,
   "metadata": {},
   "outputs": [],
   "source": [
    "#TARGET_predict열 추가.\n",
    "data_Combine['TARGET_predict'] = test_predict"
   ]
  },
  {
   "cell_type": "code",
   "execution_count": 28,
   "metadata": {},
   "outputs": [
    {
     "name": "stderr",
     "output_type": "stream",
     "text": [
      "<ipython-input-28-2c8b5e37cd7a>:4: SettingWithCopyWarning: \n",
      "A value is trying to be set on a copy of a slice from a DataFrame\n",
      "\n",
      "See the caveats in the documentation: https://pandas.pydata.org/pandas-docs/stable/user_guide/indexing.html#returning-a-view-versus-a-copy\n",
      "  data_Combine['TARGET_predict'][i] = 0\n"
     ]
    }
   ],
   "source": [
    "# TARGET 예측이 0.01보다 작다면 0으로 판단. \n",
    "for i in range(0,len(data_Combine['TARGET_predict'])):\n",
    "    if (data_Combine['TARGET_predict'][i] < 0.01):\n",
    "        data_Combine['TARGET_predict'][i] = 0"
   ]
  },
  {
   "cell_type": "code",
   "execution_count": 29,
   "metadata": {
    "scrolled": true
   },
   "outputs": [],
   "source": [
    "data_Combine.to_csv(all_file, index=False)"
   ]
  },
  {
   "cell_type": "code",
   "execution_count": 30,
   "metadata": {},
   "outputs": [
    {
     "data": {
      "text/plain": [
       "0.9999999702427209"
      ]
     },
     "execution_count": 30,
     "metadata": {},
     "output_type": "execute_result"
    }
   ],
   "source": [
    "#변형후 score를 측정해 보기.\n",
    "test_input = data_Combine[['Hour', 'DHI', 'DNI','RH', 'WS', 'T']]\n",
    "test_target = data_Combine[['TARGET_predict']]\n",
    "gb.score(test_input, test_target)"
   ]
  }
 ],
 "metadata": {
  "kernelspec": {
   "display_name": "Python 3",
   "language": "python",
   "name": "python3"
  },
  "language_info": {
   "codemirror_mode": {
    "name": "ipython",
    "version": 3
   },
   "file_extension": ".py",
   "mimetype": "text/x-python",
   "name": "python",
   "nbconvert_exporter": "python",
   "pygments_lexer": "ipython3",
   "version": "3.8.5"
  }
 },
 "nbformat": 4,
 "nbformat_minor": 4
}
